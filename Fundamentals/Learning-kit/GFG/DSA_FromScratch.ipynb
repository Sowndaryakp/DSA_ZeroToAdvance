{
  "cells": [
    {
      "cell_type": "markdown",
      "metadata": {
        "id": "pcm5PWg2GQv0"
      },
      "source": [
        "# **DSA Fundamentals**\n"
      ]
    },
    {
      "cell_type": "markdown",
      "metadata": {
        "id": "ZoITrd8MsApt"
      },
      "source": [
        "Install Java kernal to run java code here."
      ]
    },
    {
      "cell_type": "code",
      "execution_count": null,
      "metadata": {
        "id": "rscw4ZMMNO-5"
      },
      "outputs": [],
      "source": [
        "!wget https://github.com/SpencerPark/IJava/releases/download/v1.3.0/ijava-1.3.0.zip\n",
        "!unzip ijava-1.3.0.zip\n",
        "!python install.py"
      ]
    },
    {
      "cell_type": "markdown",
      "metadata": {},
      "source": [
        "# **Data Sructure And Algorithms**"
      ]
    },
    {
      "cell_type": "markdown",
      "metadata": {},
      "source": [
        "* Data structures are ways of organizing and storing data, while algorithms are step-by-step procedures for solving computational problems efficiently.\n",
        "\n",
        "# **Data Structure**\n",
        "* A data structure is a way of organizing and storing data to facilitate efficient retrieval and modification.\n",
        "* For example, an array is a linear data structure that stores elements of the same type in contiguous memory locations.\n",
        "\n",
        "# **Algorithm**\n",
        "* An algorithm is a step-by-step procedure or set of rules for solving a specific problem or accomplishing a particular task. \n",
        "* For example, the Bubble Sort algorithm is a simple sorting algorithm that repeatedly steps through the list, compares adjacent elements, and swaps them if they are in the wrong order.\n",
        "* or An example of an algorithm is a simple linear search, where you iterate through a collection to find a specific element.\n",
        "\n"
      ]
    },
    {
      "cell_type": "code",
      "execution_count": null,
      "metadata": {},
      "outputs": [],
      "source": [
        "public class LinearSearch {\n",
        "    public static int search(int[] array, int target) {\n",
        "        for (int i = 0; i < array.length; i++) {\n",
        "            if (array[i] == target) {\n",
        "                return i; // Found the target at index i\n",
        "            }\n",
        "        }\n",
        "        return -1; // Target not found\n",
        "    }\n",
        "\n",
        "    public static void main(String[] args) {\n",
        "        //Data structure example\n",
        "        int[] numbers = {1, 2, 3, 4, 5};//Here, numbers is an array storing integers.\n",
        "\n",
        "        int target = 3;\n",
        "        int result = search(numbers, target);\n",
        "        System.out.println(\"Index of \" + target + \": \" + result);\n",
        "    }\n",
        "}\n",
        "\n",
        "//Here, the search method implements a linear search algorithm to find the index of the target element in the array.\n"
      ]
    },
    {
      "cell_type": "markdown",
      "metadata": {},
      "source": [
        "**Why use Data Structures and Algorithms (DSA):**\n",
        "1. DSA allows efficient organization and manipulation of data, optimizing operations like searching, sorting, and retrieval in software development. \n",
        "2. It's crucial for designing efficient algorithms and solving complex computational problems.\n",
        "\n",
        "**Where to use DSA:**\n",
        "* Used in various applications, such as databases, search engines, game development, and more. \n",
        "* In Java, DSA is used extensively in various applications, such as searching, sorting, and optimizing data access. \n",
        "* For example, the ArrayList class in Java is implemented using dynamic arrays, which is a data structure, and it provides methods for efficient data manipulation."
      ]
    },
    {
      "cell_type": "code",
      "execution_count": null,
      "metadata": {},
      "outputs": [],
      "source": [
        "// Example of using ArrayList in Java\n",
        "import java.util.ArrayList;\n",
        "\n",
        "public class Example {\n",
        "    public static void main(String[] args) {\n",
        "        // Creating an ArrayList of integers\n",
        "        ArrayList<Integer> numbers = new ArrayList<>();\n",
        "\n",
        "        // Adding elements to the ArrayList\n",
        "        numbers.add(5);\n",
        "        numbers.add(10);\n",
        "        numbers.add(3);\n",
        "\n",
        "        // Accessing and printing elements\n",
        "        System.out.println(\"Elements in ArrayList: \" + numbers);\n",
        "\n",
        "        // Performing operations using DSA\n",
        "        numbers.sort(null); // Sorting the ArrayList\n",
        "\n",
        "        // Updated elements after sorting\n",
        "        System.out.println(\"Sorted Elements: \" + numbers);\n",
        "    }\n",
        "}\n",
        "//Here, the search method implements a linear search algorithm to find the index of the target element in the array."
      ]
    },
    {
      "cell_type": "markdown",
      "metadata": {},
      "source": [
        "**Programming Generation**\n",
        "\n",
        "**1. Machine Language:**\n",
        "* Machine language is the lowest-level programming language consisting of binary code directly executed by a computer's central processing unit (CPU).\n",
        "* Example: `01001011` (Binary machine language instruction)\n",
        "\n",
        "**Assembly Language:**\n",
        "* Assembly language is a low-level programming language using symbolic instructions that represent basic operations for a specific CPU architecture.\n",
        "* Example (x86 Assembly): `MOV AX, 5`\n",
        "\n",
        "**Structured Programming Language:**\n",
        "* Structured programming languages use control structures like loops and conditionals to organize code for better clarity and maintainability.\n",
        "* Example (C):"
      ]
    },
    {
      "cell_type": "code",
      "execution_count": null,
      "metadata": {},
      "outputs": [],
      "source": [
        "#include <stdio.h>\n",
        "\n",
        "int main() {\n",
        "    for (int i = 1; i <= 5; i++) {\n",
        "        printf(\"%d\\n\", i);\n",
        "    }\n",
        "    return 0;\n",
        "}"
      ]
    },
    {
      "cell_type": "markdown",
      "metadata": {},
      "source": [
        "**Procedural Programming Language:**\n",
        "* Procedural programming languages follow a linear, step-by-step approach where a program is divided into procedures or functions."
      ]
    },
    {
      "cell_type": "code",
      "execution_count": null,
      "metadata": {},
      "outputs": [],
      "source": [
        "PROGRAM Example\n",
        "  INTEGER :: i\n",
        "  DO i = 1, 5\n",
        "    WRITE(*,*) i\n",
        "  ENDDO\n",
        "END PROGRAM Example"
      ]
    },
    {
      "cell_type": "markdown",
      "metadata": {},
      "source": [
        "**Object-Oriented Programming (OOP):**\n",
        "* Object-oriented programming focuses on organizing code into objects that encapsulate data and behavior, promoting modularity and reusability.\n",
        "Example (Java):"
      ]
    },
    {
      "cell_type": "code",
      "execution_count": null,
      "metadata": {},
      "outputs": [],
      "source": [
        "public class Example {\n",
        "    public static void main(String[] args) {\n",
        "        for (int i = 1; i <= 5; i++) {\n",
        "            System.out.println(i);\n",
        "        }\n",
        "    }\n",
        "}"
      ]
    },
    {
      "cell_type": "markdown",
      "metadata": {},
      "source": [
        "# **Object Oriented Programming**\n",
        "1. Classs Objects\n",
        "2. Data Abstraction\n",
        "3. Encapsulation\n",
        "4. Inheritance\n",
        "5. Polymorphism\n",
        "\n",
        "[Data-Abstraction-image](https://media.geeksforgeeks.org/wp-content/uploads/3-173.png)\n",
        "\n"
      ]
    }
  ],
  "metadata": {
    "colab": {
      "cell_execution_strategy": "setup",
      "provenance": []
    },
    "kernelspec": {
      "display_name": "java",
      "name": "java"
    },
    "language_info": {
      "name": "java"
    }
  },
  "nbformat": 4,
  "nbformat_minor": 0
}
