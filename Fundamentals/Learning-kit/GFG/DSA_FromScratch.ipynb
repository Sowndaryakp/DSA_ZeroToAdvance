{
  "cells": [
    {
      "cell_type": "markdown",
      "metadata": {
        "id": "pcm5PWg2GQv0"
      },
      "source": [
        "# **DSA Fundamentals**\n"
      ]
    },
    {
      "cell_type": "markdown",
      "metadata": {
        "id": "ZoITrd8MsApt"
      },
      "source": [
        "Install Java kernal to run java code here."
      ]
    },
    {
      "cell_type": "code",
      "execution_count": null,
      "metadata": {
        "id": "rscw4ZMMNO-5"
      },
      "outputs": [],
      "source": [
        "!wget https://github.com/SpencerPark/IJava/releases/download/v1.3.0/ijava-1.3.0.zip\n",
        "!unzip ijava-1.3.0.zip\n",
        "!python install.py"
      ]
    },
    {
      "cell_type": "markdown",
      "metadata": {},
      "source": [
        "# **Data Sructure And Algorithms**"
      ]
    },
    {
      "cell_type": "markdown",
      "metadata": {},
      "source": [
        "* Data structures are ways of organizing and storing data, while algorithms are step-by-step procedures for solving computational problems efficiently.\n",
        "\n",
        "# **Data Structure**\n",
        "* A data structure is a way of organizing and storing data to facilitate efficient retrieval and modification.\n",
        "* For example, an array is a linear data structure that stores elements of the same type in contiguous memory locations.\n",
        "\n",
        "# **Algorithm**\n",
        "* An algorithm is a step-by-step procedure or set of rules for solving a specific problem or accomplishing a particular task. \n",
        "* For example, the Bubble Sort algorithm is a simple sorting algorithm that repeatedly steps through the list, compares adjacent elements, and swaps them if they are in the wrong order.\n",
        "* or An example of an algorithm is a simple linear search, where you iterate through a collection to find a specific element.\n",
        "\n"
      ]
    },
    {
      "cell_type": "code",
      "execution_count": null,
      "metadata": {},
      "outputs": [],
      "source": [
        "public class LinearSearch {\n",
        "    public static int search(int[] array, int target) {\n",
        "        for (int i = 0; i < array.length; i++) {\n",
        "            if (array[i] == target) {\n",
        "                return i; // Found the target at index i\n",
        "            }\n",
        "        }\n",
        "        return -1; // Target not found\n",
        "    }\n",
        "\n",
        "    public static void main(String[] args) {\n",
        "        //Data structure example\n",
        "        int[] numbers = {1, 2, 3, 4, 5};//Here, numbers is an array storing integers.\n",
        "\n",
        "        int target = 3;\n",
        "        int result = search(numbers, target);\n",
        "        System.out.println(\"Index of \" + target + \": \" + result);\n",
        "    }\n",
        "}\n",
        "\n",
        "//Here, the search method implements a linear search algorithm to find the index of the target element in the array.\n"
      ]
    },
    {
      "cell_type": "markdown",
      "metadata": {},
      "source": [
        "**Why use Data Structures and Algorithms (DSA):**\n",
        "1. DSA allows efficient organization and manipulation of data, optimizing operations like searching, sorting, and retrieval in software development. \n",
        "2. It's crucial for designing efficient algorithms and solving complex computational problems.\n",
        "\n",
        "**Where to use DSA:**\n",
        "* Used in various applications, such as databases, search engines, game development, and more. \n",
        "* In Java, DSA is used extensively in various applications, such as searching, sorting, and optimizing data access. \n",
        "* For example, the ArrayList class in Java is implemented using dynamic arrays, which is a data structure, and it provides methods for efficient data manipulation."
      ]
    },
    {
      "cell_type": "code",
      "execution_count": null,
      "metadata": {},
      "outputs": [],
      "source": [
        "// Example of using ArrayList in Java\n",
        "import java.util.ArrayList;\n",
        "\n",
        "public class Example {\n",
        "    public static void main(String[] args) {\n",
        "        // Creating an ArrayList of integers\n",
        "        ArrayList<Integer> numbers = new ArrayList<>();\n",
        "\n",
        "        // Adding elements to the ArrayList\n",
        "        numbers.add(5);\n",
        "        numbers.add(10);\n",
        "        numbers.add(3);\n",
        "\n",
        "        // Accessing and printing elements\n",
        "        System.out.println(\"Elements in ArrayList: \" + numbers);\n",
        "\n",
        "        // Performing operations using DSA\n",
        "        numbers.sort(null); // Sorting the ArrayList\n",
        "\n",
        "        // Updated elements after sorting\n",
        "        System.out.println(\"Sorted Elements: \" + numbers);\n",
        "    }\n",
        "}\n",
        "//Here, the search method implements a linear search algorithm to find the index of the target element in the array."
      ]
    },
    {
      "cell_type": "markdown",
      "metadata": {},
      "source": [
        "**Programming Generation**\n",
        "\n",
        "[Programming-generation-image](https://media.geeksforgeeks.org/wp-content/uploads/1-330.png)\n",
        "\n",
        "**1. Machine Language:**\n",
        "* Machine language is the lowest-level programming language consisting of binary code directly executed by a computer's central processing unit (CPU).\n",
        "* Example: `01001011` (Binary machine language instruction)\n",
        "\n",
        "**Assembly Language:**\n",
        "* Assembly language is a low-level programming language using symbolic instructions that represent basic operations for a specific CPU architecture.\n",
        "* Example (x86 Assembly): `MOV AX, 5`\n",
        "\n",
        "**Structured Programming Language:**\n",
        "* Structured programming languages use control structures like loops and conditionals to organize code for better clarity and maintainability.\n",
        "* Example (C):"
      ]
    },
    {
      "cell_type": "code",
      "execution_count": null,
      "metadata": {},
      "outputs": [],
      "source": [
        "#include <stdio.h>\n",
        "\n",
        "int main() {\n",
        "    for (int i = 1; i <= 5; i++) {\n",
        "        printf(\"%d\\n\", i);\n",
        "    }\n",
        "    return 0;\n",
        "}"
      ]
    },
    {
      "cell_type": "markdown",
      "metadata": {},
      "source": [
        "**Procedural Programming Language:**\n",
        "* Procedural programming languages follow a linear, step-by-step approach where a program is divided into procedures or functions."
      ]
    },
    {
      "cell_type": "code",
      "execution_count": null,
      "metadata": {},
      "outputs": [],
      "source": [
        "PROGRAM Example\n",
        "  INTEGER :: i\n",
        "  DO i = 1, 5\n",
        "    WRITE(*,*) i\n",
        "  ENDDO\n",
        "END PROGRAM Example"
      ]
    },
    {
      "cell_type": "markdown",
      "metadata": {},
      "source": [
        "**Object-Oriented Programming (OOP):**\n",
        "* Object-oriented programming focuses on organizing code into objects that encapsulate data and behavior, promoting modularity and reusability.\n",
        "Example (Java):"
      ]
    },
    {
      "cell_type": "code",
      "execution_count": null,
      "metadata": {},
      "outputs": [],
      "source": [
        "public class Example {\n",
        "    public static void main(String[] args) {\n",
        "        for (int i = 1; i <= 5; i++) {\n",
        "            System.out.println(i);\n",
        "        }\n",
        "    }\n",
        "}"
      ]
    },
    {
      "cell_type": "markdown",
      "metadata": {},
      "source": [
        "# **Object Oriented Programming**\n",
        "\n",
        "**What is OOPs**: \n",
        "* OOPs is a programming paradigm that uses objects, which encapsulate data and behavior, to design and organize code. \n",
        "* It emphasizes concepts like encapsulation, inheritance, polymorphism, and abstraction.\n",
        "\n",
        "**Why we need OOPs:**\n",
        "* OOPs provides a modular and structured approach, enhancing code reusability, maintainability, and scalability. \n",
        "* It models real-world entities and relationships, making it easier to conceptualize and design complex systems.\n",
        "\n",
        "**How to use OOPs in real-time:**\n",
        "* In real-time applications, OOPs is applied by creating classes and objects that represent entities and their interactions. \n",
        "* For example, in Java, consider a simple \"Person\" class:"
      ]
    },
    {
      "cell_type": "code",
      "execution_count": null,
      "metadata": {},
      "outputs": [],
      "source": [
        "public class Person {\n",
        "    // Attributes\n",
        "    private String name;\n",
        "    private int age;\n",
        "\n",
        "    // Constructor\n",
        "    public Person(String name, int age) {\n",
        "        this.name = name;\n",
        "        this.age = age;\n",
        "    }\n",
        "\n",
        "    // Method\n",
        "    public void displayInfo() {\n",
        "        System.out.println(\"Name: \" + name + \", Age: \" + age);\n",
        "    }\n",
        "\n",
        "    public static void main(String[] args) {\n",
        "        // Creating an object of the Person class\n",
        "        Person person1 = new Person(\"John\", 25);\n",
        "\n",
        "        // Calling a method on the object\n",
        "        person1.displayInfo();\n",
        "    }\n",
        "}"
      ]
    },
    {
      "cell_type": "markdown",
      "metadata": {},
      "source": [
        "* In this example, the `Person` class encapsulates attributes (name, age) and behavior (displayInfo method). \n",
        "* Objects of this class represent real-world persons, showcasing the principles of encapsulation and abstraction in OOPs.\n",
        "* The four main principles of Object-Oriented Programming (OOP) are:\n",
        "[oops-types-image](https://media.geeksforgeeks.org/wp-content/uploads/2-241.png)\n",
        "\n",
        "# **1. Class Objects:**\n",
        "* **Class:** A class is a `blueprint` or template that defines the attributes and behaviors common to all objects of that type.\n",
        "* **Objects:** Objects are `instances of a class`, representing specific entities with unique characteristics.\n",
        "\n",
        "**Real-time Example:**\n",
        "* Consider the class `Car` as a blueprint for all cars. An object of the \"Car\" class could represent a specific car, such as a `red Honda Accord`."
      ]
    },
    {
      "cell_type": "code",
      "execution_count": null,
      "metadata": {},
      "outputs": [],
      "source": [
        "// Class definition\n",
        "public class Car {\n",
        "    // Attributes\n",
        "    private String color;\n",
        "    private String model;\n",
        "\n",
        "    // Constructor\n",
        "    public Car(String color, String model) {\n",
        "        this.color = color;\n",
        "        this.model = model;\n",
        "    }\n",
        "\n",
        "    // Method to display car information\n",
        "    public void displayInfo() {\n",
        "        System.out.println(\"Car Model: \" + model + \", Color: \" + color);\n",
        "    }\n",
        "\n",
        "    // Main method to demonstrate class and object\n",
        "    public static void main(String[] args) {\n",
        "        // Creating an object of the Car class\n",
        "        Car myCar = new Car(\"Red\", \"Honda Accord\");\n",
        "\n",
        "        // Accessing the object's method\n",
        "        myCar.displayInfo();\n",
        "    }\n",
        "}\n",
        "//take another ex Employee with name, id, role"
      ]
    },
    {
      "cell_type": "markdown",
      "metadata": {},
      "source": [
        "* In this example, the \"Car\" class defines attributes like color and model and a method displayInfo() to show the car details. \n",
        "* The main method demonstrates creating an object of the \"Car\" class (myCar) and accessing its method.\n",
        "\n",
        "# **2. Encapsulation:**\n",
        "* Bundling data (attributes) and methods (functions) that operate on the data into a single unit, known as a class.\n",
        "* Example: In a `Car` class, encapsulation involves combining attributes like `speed` and methods like `accelerate()` within the class.\n",
        "* A smartphone is an example of encapsulation where the internal components (hardware) are hidden from the user. The user interacts with the device through an interface (touchscreen) without needing to know the internal workings."
      ]
    },
    {
      "cell_type": "code",
      "execution_count": null,
      "metadata": {},
      "outputs": [],
      "source": [
        "public class Smartphone {\n",
        "    private String brand;\n",
        "    private int batteryLevel;\n",
        "\n",
        "    public Smartphone(String brand) {\n",
        "        this.brand = brand;\n",
        "        this.batteryLevel = 100;\n",
        "    }\n",
        "\n",
        "    public void useApp(String appName) {\n",
        "        // Code to use the specified app\n",
        "        System.out.println(brand + \" is using \" + appName);\n",
        "        batteryLevel -= 5;\n",
        "    }\n",
        "}"
      ]
    },
    {
      "cell_type": "markdown",
      "metadata": {},
      "source": [
        "# **3. Inheritance:**\n",
        "[Inheritance-image](https://media.geeksforgeeks.org/wp-content/uploads/4-104.png)\n",
        "* The mechanism by which a new class (subclass or derived class) inherits properties and behaviors from an existing class (superclass or base class).\n",
        "* Example: If there's a `Vehicle` class, a `Car` class can inherit characteristics from it, inheriting attributes like `fuelType` and methods like `startEngine()`.\n",
        "* In a company, there may be a base class `Employee`, and specific types of employees (e.g., `Manager` and `Developer`) can inherit properties and methods from the base class."
      ]
    },
    {
      "cell_type": "code",
      "execution_count": null,
      "metadata": {},
      "outputs": [],
      "source": [
        "public class Employee {\n",
        "    protected String name;\n",
        "    protected int employeeId;\n",
        "\n",
        "    public Employee(String name, int employeeId) {\n",
        "        this.name = name;\n",
        "        this.employeeId = employeeId;\n",
        "    }\n",
        "\n",
        "    public void displayInfo() {\n",
        "        System.out.println(\"Name: \" + name + \", Employee ID: \" + employeeId);\n",
        "    }\n",
        "}\n",
        "\n",
        "// Subclass inheriting from Employee\n",
        "public class Manager extends Employee {\n",
        "    private String department;\n",
        "\n",
        "    public Manager(String name, int employeeId, String department) {\n",
        "        super(name, employeeId);\n",
        "        this.department = department;\n",
        "    }\n",
        "\n",
        "    // Additional methods specific to Manager\n",
        "    public void manageTeam() {\n",
        "        System.out.println(name + \" is managing the \" + department + \" team.\");\n",
        "    }\n",
        "}"
      ]
    },
    {
      "cell_type": "markdown",
      "metadata": {},
      "source": [
        "# **4. Polymorphism**\n",
        "[Inheritance-image](https://media.geeksforgeeks.org/wp-content/uploads/5-77.png)\n",
        "* The ability of objects of different classes to be treated as objects of a common super class. It allows a single interface to represent various types of entities.\n",
        "* Example: A `Shape` class with a `draw()` method can have subclasses like `Circle` and `Square,` each implementing its own version of the `draw()` method.\n",
        "* A `drawing` application can have a common interface for various tools like `pencil, eraser, and brush`. Each tool behaves differently but follows the same interface."
      ]
    },
    {
      "cell_type": "code",
      "execution_count": null,
      "metadata": {},
      "outputs": [],
      "source": [
        "public interface DrawingTool {\n",
        "    void draw();\n",
        "}\n",
        "\n",
        "public class Pencil implements DrawingTool {\n",
        "    @Override\n",
        "    public void draw() {\n",
        "        System.out.println(\"Drawing with a pencil\");\n",
        "    }\n",
        "}\n",
        "\n",
        "public class Brush implements DrawingTool {\n",
        "    @Override\n",
        "    public void draw() {\n",
        "        System.out.println(\"Painting with a brush\");\n",
        "    }\n",
        "}"
      ]
    },
    {
      "cell_type": "markdown",
      "metadata": {},
      "source": [
        "# **5. Data Abstraction**\n",
        "[Data-Abstraction-image](https://media.geeksforgeeks.org/wp-content/uploads/3-173.png)\n",
        "* The process of hiding the complex reality while exposing only the essential parts. It involves creating abstract classes or interfaces that define a common structure for derived classes.\n",
        " * Example: An abstract class `BankAccount` might have abstract methods like `deposit()` and `withdraw()`, which are implemented by specific types of bank accounts like `SavingsAccount` and `CheckingAccount`.\n",
        " * A `remote` control is an abstraction of a TV. Users interact with the remote `control's buttons` without knowing the complex operations happening inside the TV."
      ]
    },
    {
      "cell_type": "code",
      "execution_count": null,
      "metadata": {},
      "outputs": [],
      "source": [
        "public abstract class RemoteControl {\n",
        "    // Abstract method representing a common action\n",
        "    public abstract void pressButton();\n",
        "}\n",
        "\n",
        "public class TVRemoteControl extends RemoteControl {\n",
        "    @Override\n",
        "    public void pressButton() {\n",
        "        System.out.println(\"Changing TV channel\");\n",
        "        // Additional code for channel changing\n",
        "    }\n",
        "}"
      ]
    },
    {
      "cell_type": "markdown",
      "metadata": {},
      "source": [
        "## Some important points to know about OOP: \n",
        "\n",
        "* OOP treats data as a critical element. \n",
        "* Emphasis is on data rather than procedure. \n",
        "* Decomposition of the problem into simpler modules. \n",
        "* Doesn’t allow data to freely flow in the entire system, ie localized control flow. \n",
        "* Data is protected from external functions. "
      ]
    },
    {
      "cell_type": "markdown",
      "metadata": {},
      "source": [
        "## Advantages of OOPs – \n",
        "\n",
        "* It models the real world very well. \n",
        "* With OOP, programs are easy to understand and maintain. \n",
        "* OOP offers code reusability. Already created classes can be reused without having to write them again. \n",
        "* OOP facilitates the quick development of programs where parallel development of classes is possible. \n",
        "* With OOP, programs are easier to test, manage and debug. "
      ]
    },
    {
      "cell_type": "markdown",
      "metadata": {},
      "source": [
        "## Disadvantages of OOP – \n",
        " \n",
        "* With OOP, classes sometimes tend to be over-generalized. \n",
        "* The relations among classes become superficial at times. \n",
        "* The OOP design is tricky and requires appropriate knowledge. Also, one needs to do proper planning and design for OOP programming. \n",
        "* To program with OOP, the programmer needs proper skills such as design, programming, and thinking in terms of objects and classes, etc. "
      ]
    }
  ],
  "metadata": {
    "colab": {
      "cell_execution_strategy": "setup",
      "provenance": []
    },
    "kernelspec": {
      "display_name": "java",
      "name": "java"
    },
    "language_info": {
      "name": "java"
    }
  },
  "nbformat": 4,
  "nbformat_minor": 0
}
