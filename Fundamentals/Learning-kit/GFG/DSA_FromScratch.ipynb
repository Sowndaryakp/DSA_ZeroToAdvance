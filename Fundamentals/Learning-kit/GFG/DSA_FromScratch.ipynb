{
  "cells": [
    {
      "cell_type": "markdown",
      "metadata": {
        "id": "pcm5PWg2GQv0"
      },
      "source": [
        "# **DSA Fundamentals**\n"
      ]
    },
    {
      "cell_type": "markdown",
      "metadata": {
        "id": "ZoITrd8MsApt"
      },
      "source": [
        "Install Java kernal to run java code here."
      ]
    },
    {
      "cell_type": "code",
      "execution_count": null,
      "metadata": {
        "id": "rscw4ZMMNO-5"
      },
      "outputs": [],
      "source": [
        "!wget https://github.com/SpencerPark/IJava/releases/download/v1.3.0/ijava-1.3.0.zip\n",
        "!unzip ijava-1.3.0.zip\n",
        "!python install.py"
      ]
    },
    {
      "cell_type": "markdown",
      "metadata": {},
      "source": [
        "# **Data Sructure And Algorithms**"
      ]
    },
    {
      "cell_type": "markdown",
      "metadata": {},
      "source": [
        "* Data structures are ways of organizing and storing data, while algorithms are step-by-step procedures for solving computational problems efficiently.\n",
        "\n",
        "# **Data Structure**\n",
        "* A data structure is a way of organizing and storing data in a computer to perform operations efficiently. \n",
        "* For example, an array is a linear data structure that stores elements of the same type in contiguous memory locations.\n",
        "\n",
        "# **Algorithm**\n",
        "* An algorithm is a step-by-step procedure or set of rules for solving a specific problem or accomplishing a particular task. \n",
        "* For example, the Bubble Sort algorithm is a simple sorting algorithm that repeatedly steps through the list, compares adjacent elements, and swaps them if they are in the wrong order.\n",
        "\n",
        "**Why use Data Structures and Algorithms (DSA):**\n",
        "1. DSA allows efficient organization and manipulation of data, optimizing operations like searching, sorting, and retrieval in software development. \n",
        "2. It's crucial for designing efficient algorithms and solving complex computational problems.\n",
        "\n",
        "**Where to use DSA:**\n",
        "* Used in various applications, such as databases, search engines, game development, and more. \n",
        "* For example, in Python, a list is a dynamic array, a basic data structure:"
      ]
    }
  ],
  "metadata": {
    "colab": {
      "cell_execution_strategy": "setup",
      "provenance": []
    },
    "kernelspec": {
      "display_name": "java",
      "name": "java"
    },
    "language_info": {
      "name": "java"
    }
  },
  "nbformat": 4,
  "nbformat_minor": 0
}
