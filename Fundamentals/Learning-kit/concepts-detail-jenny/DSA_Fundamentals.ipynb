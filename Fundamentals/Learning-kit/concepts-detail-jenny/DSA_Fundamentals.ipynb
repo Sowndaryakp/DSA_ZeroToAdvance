{
  "cells": [
    {
      "cell_type": "markdown",
      "metadata": {
        "id": "pcm5PWg2GQv0"
      },
      "source": [
        "# **DSA Fundamentals**\n"
      ]
    },
    {
      "cell_type": "markdown",
      "metadata": {
        "id": "ZoITrd8MsApt"
      },
      "source": [
        "Install Java kernal to run java code here."
      ]
    },
    {
      "cell_type": "code",
      "execution_count": null,
      "metadata": {
        "id": "rscw4ZMMNO-5"
      },
      "outputs": [],
      "source": [
        "!wget https://github.com/SpencerPark/IJava/releases/download/v1.3.0/ijava-1.3.0.zip\n",
        "!unzip ijava-1.3.0.zip\n",
        "!python install.py"
      ]
    },
    {
      "cell_type": "markdown",
      "metadata": {
        "id": "i6W-h4RTVSgk"
      },
      "source": [
        "# **ARRAYS**\n",
        "\n",
        "**Need of Array:**\n",
        "Arrays provide a convenient way to store and access multiple values of the same data type under a single variable, facilitating efficient data organization and **manipulation**.\n",
        "\n",
        "**What is Array:**\n",
        "An array is a data structure that holds a fixed-size, ordered collection of elements of the same data type.\n",
        "\n",
        "**How to Access a Particular Array:**\n",
        "* Access an array element using its index (position), starting from 0.\n",
        "* Example: **int value = myArray[2];**\n",
        "\n",
        "**Types of Array:**\n",
        "1. **Single-Dimensional Array:**\n",
        " * Stores elements in a linear fashion.\n",
        " * Example: **int[] myArray = {1, 2, 3, 4, 5};**\n",
        "\n",
        "2. **Two-Dimensional Array:**\n",
        " * Represents a table of elements with rows and columns.\n",
        " * Example: **int[][] myMatrix = {{1, 2, 3}, {4, 5, 6}, {7, 8, 9}};**\n",
        "\n",
        "3. **Dynamic Array (ArrayList):**\n",
        " * Resizable array-like structure.\n",
        " * Example:\n",
        "    * **ArrayList<Integer> myList = new ArrayList<>();**\n",
        "    * **myList.add(1);**\n",
        "    * **myList.add(2);**\n",
        "\n",
        "**Declaration, Initialization, and Representation in Memory:**\n",
        "* Declaration: **int[] myArray;**\n",
        "* Initialization: **myArray = new int[5];**\n",
        "* Representation in Memory: Contiguous memory locations storing elements, e.g., [0, 0, 0, 0, 0]\n",
        "\n",
        "**Calculating Address:**\n",
        "* Array element address calculation: address = base_address + (index * size_of_data_type);\n",
        "* Example: **address = baseAddress + (2 * 4);**"
      ]
    },
    {
      "cell_type": "code",
      "execution_count": null,
      "metadata": {
        "id": "dcs2mP2yd_uB"
      },
      "outputs": [],
      "source": [
        "// Declaration\n",
        "int[] myArray;\n",
        "\n",
        "// Initialization\n",
        "myArray = new int[5];\n",
        "\n",
        "// Accessing a particular array element\n",
        "int value = myArray[2];\n",
        "\n",
        "// Calculating address\n",
        "int baseAddress = //...; // Base address of the array\n",
        "int index = 2;\n",
        "int sizeOfDataType = 4; // Assuming integer size is 4 bytes\n",
        "int address = baseAddress + (index * sizeOfDataType);\n"
      ]
    },
    {
      "cell_type": "markdown",
      "metadata": {
        "id": "H2mGYS_ieCYQ"
      },
      "source": [
        "**Note:** Adjust the size_of_data_type and base_address based on the actual data type and memory location in your specific scenario."
      ]
    },
    {
      "cell_type": "markdown",
      "metadata": {
        "id": "hhaRHeameF1T"
      },
      "source": [
        "how the data is to be inserted?\n",
        "how the array is to be triversed?\n",
        "different types of operations on 1d array with  there time taken?\n",
        "what is 1d,2d, multi dimensional array?\n",
        "how the data is accessed from 2d array"
      ]
    }
  ],
  "metadata": {
    "colab": {
      "cell_execution_strategy": "setup",
      "provenance": []
    },
    "kernelspec": {
      "display_name": "java",
      "name": "java"
    },
    "language_info": {
      "name": "java"
    }
  },
  "nbformat": 4,
  "nbformat_minor": 0
}
