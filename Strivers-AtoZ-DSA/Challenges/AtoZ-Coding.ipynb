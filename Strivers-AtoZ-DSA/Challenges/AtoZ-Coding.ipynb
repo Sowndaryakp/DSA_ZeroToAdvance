{
  "cells": [
    {
      "cell_type": "markdown",
      "metadata": {
        "id": "pcm5PWg2GQv0"
      },
      "source": [
        "# **DSA-JAVA**"
      ]
    },
    {
      "cell_type": "markdown",
      "metadata": {
        "id": "ZoITrd8MsApt"
      },
      "source": [
        "Install Java kernal to run java code here."
      ]
    },
    {
      "cell_type": "code",
      "execution_count": null,
      "metadata": {
        "id": "rscw4ZMMNO-5"
      },
      "outputs": [],
      "source": [
        "!wget https://github.com/SpencerPark/IJava/releases/download/v1.3.0/ijava-1.3.0.zip\n",
        "!unzip ijava-1.3.0.zip\n",
        "!python install.py"
      ]
    },
    {
      "cell_type": "markdown",
      "metadata": {
        "id": "i6W-h4RTVSgk"
      },
      "source": []
    },
    {
      "cell_type": "markdown",
      "metadata": {},
      "source": [
        "# **User Input/Output**\n"
      ]
    },
    {
      "cell_type": "markdown",
      "metadata": {},
      "source": [
        "### **1. Using Scanner Class**"
      ]
    },
    {
      "cell_type": "code",
      "execution_count": null,
      "metadata": {},
      "outputs": [],
      "source": [
        "import java.util.Scanner;\n",
        "\n",
        "public class UsingScannerClass{\n",
        "    public static void main(String args[]){\n",
        "        int x, y;\n",
        "        Scanner sc = new Scanner(System.in);\n",
        "        x = sc.nextInt();\n",
        "        y = sc.nextInt();\n",
        "        System.out.println(\"Value of x: \" + x + \"and y: \" + y);\n",
        "        sc.close()\n",
        "    }\n",
        "}"
      ]
    },
    {
      "cell_type": "markdown",
      "metadata": {},
      "source": [
        "### **2. Using Buffered Reader**"
      ]
    },
    {
      "cell_type": "code",
      "execution_count": null,
      "metadata": {},
      "outputs": [],
      "source": [
        "\n",
        "public class InputOutput{\n",
        "    public static void main(String[] args){\n",
        "        System.out.println(\"Enter a number : \");\n",
        "        InputStreamReader isr = new InputStreamReader(System.in);\n",
        "        BufferedReader br = new BufferedReader(isr);\n",
        "\n",
        "        int num = Integer.parseInt(br.readLine());\n",
        "        System.out.println(\"ENtered : \"+ num);\n",
        ";    }\n",
        "}"
      ]
    }
  ],
  "metadata": {
    "colab": {
      "cell_execution_strategy": "setup",
      "provenance": []
    },
    "kernelspec": {
      "display_name": "java",
      "name": "java"
    },
    "language_info": {
      "name": "java"
    }
  },
  "nbformat": 4,
  "nbformat_minor": 0
}
