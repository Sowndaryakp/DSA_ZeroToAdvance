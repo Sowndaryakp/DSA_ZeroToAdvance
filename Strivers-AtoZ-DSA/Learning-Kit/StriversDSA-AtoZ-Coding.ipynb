{
  "cells": [
    {
      "cell_type": "markdown",
      "metadata": {
        "id": "pcm5PWg2GQv0"
      },
      "source": [
        "# **DSA-JAVA**"
      ]
    },
    {
      "cell_type": "markdown",
      "metadata": {
        "id": "ZoITrd8MsApt"
      },
      "source": [
        "Install Java kernal to run java code here."
      ]
    },
    {
      "cell_type": "code",
      "execution_count": null,
      "metadata": {
        "id": "rscw4ZMMNO-5"
      },
      "outputs": [],
      "source": [
        "!wget https://github.com/SpencerPark/IJava/releases/download/v1.3.0/ijava-1.3.0.zip\n",
        "!unzip ijava-1.3.0.zip\n",
        "!python install.py"
      ]
    },
    {
      "cell_type": "markdown",
      "metadata": {
        "id": "i6W-h4RTVSgk"
      },
      "source": []
    },
    {
      "cell_type": "markdown",
      "metadata": {},
      "source": [
        "# **User Input/Output**\n"
      ]
    },
    {
      "cell_type": "markdown",
      "metadata": {},
      "source": [
        "### **1. Using Scanner Class**"
      ]
    },
    {
      "cell_type": "code",
      "execution_count": null,
      "metadata": {},
      "outputs": [],
      "source": [
        "import java.util.Scanner;\n",
        "\n",
        "public class UsingScannerClass{\n",
        "    public static void main(String args[]){\n",
        "        int x, y;\n",
        "        Scanner sc = new Scanner(System.in);\n",
        "        x = sc.nextInt();\n",
        "        y = sc.nextInt();\n",
        "        System.out.println(\"Value of x: \" + x + \"and y: \" + y);\n",
        "        sc.close()\n",
        "    }\n",
        "}"
      ]
    },
    {
      "cell_type": "markdown",
      "metadata": {},
      "source": [
        "### **2. Using Buffered Reader**"
      ]
    },
    {
      "cell_type": "code",
      "execution_count": null,
      "metadata": {},
      "outputs": [],
      "source": [
        "\n",
        "public class InputOutput{\n",
        "    public static void main(String[] args){\n",
        "        System.out.println(\"Enter a number : \");\n",
        "        InputStreamReader isr = new InputStreamReader(System.in);\n",
        "        BufferedReader br = new BufferedReader(isr);\n",
        "\n",
        "        int num = Integer.parseInt(br.readLine());\n",
        "        System.out.println(\"ENtered : \"+ num);\n",
        ";    }\n",
        "}"
      ]
    },
    {
      "cell_type": "markdown",
      "metadata": {},
      "source": [
        "## **`Patterns`**"
      ]
    },
    {
      "cell_type": "markdown",
      "metadata": {},
      "source": [
        "### **Pattern-1: Rectangular Star Pattern**"
      ]
    },
    {
      "cell_type": "code",
      "execution_count": null,
      "metadata": {},
      "outputs": [],
      "source": [
        "class Main{\n",
        "    static void pattern1{\n",
        "        for(int i=0; i<=N;i++){\n",
        "            for(int j=0;j<=N;j++){\n",
        "                System.out.print(\"*\");\n",
        "            }\n",
        "            System.out.println();\n",
        "        }\n",
        "    }\n",
        "    public static void main(String args[]){\n",
        "        int N = 6;\n",
        "        pattern1(N);\n",
        "    }\n",
        "}"
      ]
    },
    {
      "cell_type": "markdown",
      "metadata": {},
      "source": [
        "## **Pattern-2: Right-Angled Triangle Pattern**"
      ]
    },
    {
      "cell_type": "code",
      "execution_count": null,
      "metadata": {},
      "outputs": [],
      "source": [
        "public class pattern2 {\n",
        "    static void  printPattern2(int n) {\n",
        "        for(int i=1;i<n;i++){\n",
        "            for(int j=1;j<i;j++){\n",
        "                System.out.print(\"* \");\n",
        "            }\n",
        "            System.out.println();\n",
        "        }\n",
        "    }\n",
        "    public static void main(String args[]){\n",
        "        int n = 6;\n",
        "        printPattern2(n);\n",
        "    }\n",
        "}"
      ]
    },
    {
      "cell_type": "markdown",
      "metadata": {},
      "source": [
        "## **Pattern – 3: Right-Angled Number Pyramid**"
      ]
    },
    {
      "cell_type": "code",
      "execution_count": null,
      "metadata": {},
      "outputs": [],
      "source": [
        "public class pattern3 {\n",
        "    public static void nTriangle(int n) {\n",
        "        // Write your code here\n",
        "        for(int i = 1;i <= n;i++){\n",
        "            for(int j=1;j<=i;j++){\n",
        "                System.out.print(j);\n",
        "            }\n",
        "            System.out.println();\n",
        "        }\n",
        "    }\n",
        "    public static void main(String[] args){\n",
        "        int n=3;\n",
        "        \n",
        "        nTriangle(n);\n",
        "    }\n",
        "}"
      ]
    },
    {
      "cell_type": "markdown",
      "metadata": {},
      "source": [
        "## **Pattern – 4: Right-Angled Number Pyramid – II**"
      ]
    },
    {
      "cell_type": "code",
      "execution_count": null,
      "metadata": {},
      "outputs": [],
      "source": [
        "public class pattern4 {\n",
        "    public static void nTriangle(int n) {\n",
        "        // Write your code here\n",
        "        for(int i=1;i<=n;i++){\n",
        "            for(int j=1;j<=i;j++){\n",
        "                System.out.print(i + \" \");\n",
        "            }\n",
        "            System.out.println();\n",
        "        }\n",
        "    }\n",
        "    public static void main(String[] args){\n",
        "        int n1=3;\n",
        "\n",
        "        nTriangle(n1);\n",
        "    }\n",
        "}"
      ]
    },
    {
      "cell_type": "markdown",
      "metadata": {},
      "source": [
        "## **Pattern-5: Inverted Right Pyramid**"
      ]
    },
    {
      "cell_type": "code",
      "execution_count": null,
      "metadata": {},
      "outputs": [],
      "source": [
        "public class pattern5 {\n",
        "    public static void seeding(int n) {\n",
        "        // Write your code here\n",
        "        for(int i=n;i>=1;i--){\n",
        "            for(int j=1;j<=i;j++){\n",
        "                System.out.print(\"* \");\n",
        "            }\n",
        "            System.out.println();\n",
        "        }\n",
        "    }\n",
        "    public static void main(String args[]){\n",
        "        int n1=3;\n",
        "\n",
        "        seeding(n1);\n",
        "    }\n",
        "}"
      ]
    },
    {
      "cell_type": "markdown",
      "metadata": {},
      "source": [
        "## **Pattern – 6: Inverted Numbered Right Pyramid**"
      ]
    },
    {
      "cell_type": "code",
      "execution_count": null,
      "metadata": {},
      "outputs": [],
      "source": [
        "public class pattern6 {\n",
        "    public static void nNumberTriangle(int n) {\n",
        "        // Write your code here\n",
        "        for(int i=n;i>=1;i--){\n",
        "            for(int j=1;j<=i;j++){\n",
        "                System.out.print(j + \" \");\n",
        "            }\n",
        "            System.out.println();\n",
        "        }\n",
        "    }\n",
        "    public static void main(String[] args){\n",
        "        int n1=3;\n",
        "        int n2=4;\n",
        "        int n3=7;\n",
        "\n",
        "        nNumberTriangle(n1);\n",
        "        nNumberTriangle(n2);\n",
        "        nNumberTriangle(n3);\n",
        "    }\n",
        "}"
      ]
    },
    {
      "cell_type": "markdown",
      "metadata": {},
      "source": [
        "## **Pattern – 7: Star Pyramid**"
      ]
    },
    {
      "cell_type": "code",
      "execution_count": null,
      "metadata": {},
      "outputs": [],
      "source": [
        "public class pattern7 {\n",
        "    public static void nStarTriangle(int n) {\n",
        "        // Write your code here\n",
        "        for(int i=0;i<n;i++){\n",
        "            for(int j=0;j<n-i-1;j++){\n",
        "                System.out.print(\" \");\n",
        "            }\n",
        "            for(int j=0;j<2*i+1;j++){\n",
        "                System.out.print(\"*\");\n",
        "            }\n",
        "            for(int j=0;j<n-i-1;j++){\n",
        "                System.out.print(\" \");\n",
        "            }\n",
        "            System.out.println();\n",
        "        }\n",
        "    }\n",
        "    public static void main(String args[]){\n",
        "        int n1 = 3;\n",
        "        nStarTriangle(n1);\n",
        "    }\n",
        "}"
      ]
    },
    {
      "cell_type": "markdown",
      "metadata": {},
      "source": [
        "## **Pattern – 8: Inverted Star Pyramid**"
      ]
    },
    {
      "cell_type": "code",
      "execution_count": null,
      "metadata": {},
      "outputs": [],
      "source": [
        "public class pattern8 {\n",
        "    public static void nStarTriangle(int n) {\n",
        "        // Write your code here\n",
        "        for(int i=0;i<n;i++){\n",
        "            for(int j=0;j<i;j++){\n",
        "                System.out.print(\" \");\n",
        "            }\n",
        "            for(int j=0;j<2*n -(2*i+1);j++){\n",
        "                System.out.print(\"*\");\n",
        "            }\n",
        "            for(int j=0;j<i;j++){\n",
        "                System.out.print(\" \");\n",
        "            }\n",
        "            System.out.println();\n",
        "        }\n",
        "    }\n",
        "    public static void main(String[] args){\n",
        "        int n1 = 3;\n",
        "\n",
        "        nStarTriangle(n1);\n",
        "    }\n",
        "}"
      ]
    },
    {
      "cell_type": "markdown",
      "metadata": {},
      "source": [
        "## **Pattern – 9: Diamond Star Pattern**"
      ]
    },
    {
      "cell_type": "code",
      "execution_count": null,
      "metadata": {},
      "outputs": [],
      "source": [
        "\n",
        "public class pattern9 {\n",
        "    public static void erect_pyramid(int n){\n",
        "        for(int i=0;i<n;i++){\n",
        "            for(int j=0;j<n-i-1;j++){\n",
        "                System.out.print(\" \");\n",
        "            }\n",
        "            for(int j=0;j<2*i+1;j++){\n",
        "                System.out.print(\"*\");\n",
        "            }\n",
        "            for(int j=0;j<n-i-1;j++){\n",
        "                System.out.print(\" \");\n",
        "            }\n",
        "            System.out.println();\n",
        "        }\n",
        "        for(int i=0;i<n;i++){\n",
        "            for(int j=0;j<i;j++){\n",
        "                System.out.print(\" \");\n",
        "            }\n",
        "            for(int j=0;j<2*n -(2*i+1);j++){\n",
        "                System.out.print(\"*\");\n",
        "            }\n",
        "            for(int j=0;j<i;j++){\n",
        "                System.out.print(\" \");\n",
        "            }\n",
        "            System.out.println();\n",
        "        }\n",
        "    }\n",
        "   public static  void main(String[] args) {\n",
        "    int n=5;\n",
        "    erect_pyramid(n);\n",
        "   }\n",
        "}"
      ]
    },
    {
      "cell_type": "markdown",
      "metadata": {},
      "source": [
        "## **Pattern – 10: Half Diamond Star Pattern**"
      ]
    },
    {
      "cell_type": "code",
      "execution_count": null,
      "metadata": {},
      "outputs": [],
      "source": [
        "class pattern10 {\n",
        "    static void printpattern10(int N)\n",
        "    {\n",
        "        // Outer loop for number of rows.\n",
        "        for(int i=1;i<=2*N-1;i++){\n",
        "          \n",
        "            // stars would be equal to the row no. uptill first half\n",
        "            int stars = i;\n",
        "            \n",
        "            // for the second half of the rotated triangle.\n",
        "            if(i>N) stars = 2*N-i;\n",
        "            \n",
        "            // for printing the stars in each row.\n",
        "            for(int j=1;j<=stars;j++){\n",
        "                System.out.print(\"*\");\n",
        "            }\n",
        "            \n",
        "            // As soon as the stars for each iteration are printed, we move to the\n",
        "            // next row and give a line break otherwise all stars\n",
        "            // would get printed in 1 line.\n",
        "            System.out.println();\n",
        "        }\n",
        "     }\n",
        "  \n",
        "      public static void main(String[] args) {\n",
        "          // Here, we have taken the value of N as 5.\n",
        "          // We can also take input from the user.\n",
        "          int N = 5;\n",
        "          printpattern10(N);\n",
        "      }\n",
        "  }"
      ]
    },
    {
      "cell_type": "markdown",
      "metadata": {},
      "source": [
        "## **`Know Basic Maths`**"
      ]
    },
    {
      "cell_type": "markdown",
      "metadata": {},
      "source": [
        "### **Count Digits**\n",
        "\n",
        "**Solution 1**\n",
        "\n",
        "**1. Problem Statement:** Given an integer N, write a program to count the number of digits in N."
      ]
    },
    {
      "cell_type": "code",
      "execution_count": null,
      "metadata": {},
      "outputs": [],
      "source": [
        "class countNumberDigits{\n",
        "    static int countDigits(int n){\n",
        "        int x=n;\n",
        "        int count = 0;\n",
        "        while(x!=0){\n",
        "            x=x/10;\n",
        "            count++;\n",
        "        }\n",
        "        return count;\n",
        "    }\n",
        "    public static void main(String[] args){\n",
        "        int n = 12345;\n",
        "        System.out.println(\"Number of digits in \"+n+\" is \"+countDigits(n));\n",
        "\n",
        "    }\n",
        "}"
      ]
    },
    {
      "cell_type": "markdown",
      "metadata": {},
      "source": [
        "**Complexity Analysis**\n",
        "\n",
        "* **Time Complexity:** O(n) where n is the number of digits in the given integer\n",
        "\n",
        "* **Space Complexity:** O(1)"
      ]
    },
    {
      "cell_type": "markdown",
      "metadata": {},
      "source": [
        "**Solution 2**\n",
        "\n",
        "1. Convert the integer into a string.\n",
        "2. Find the length of the string   "
      ]
    },
    {
      "cell_type": "code",
      "execution_count": null,
      "metadata": {},
      "outputs": [],
      "source": [
        "import java.util.*;\n",
        "\n",
        "public class digitsToStringLength{\n",
        "    static int count_digits(int n){\n",
        "        String n2 = Integer.toString(n);\n",
        "        return n2.length();\n",
        "    }\n",
        "    public static void main(String[] args){\n",
        "        int n = 12345;\n",
        "        System.out.println(\"Number of digits in \" + n + \" is \" + count_digits(n))\n",
        "    }\n",
        "}"
      ]
    },
    {
      "cell_type": "markdown",
      "metadata": {},
      "source": [
        "**Solution 3**\n",
        "\n",
        "* Use logarithm base 10 to count the number of digits. As\n",
        "* The number of digits in an integer = the upper bound of log10(n).\n",
        "\n",
        "Example :\n",
        "\n",
        "    n = 12345\n",
        "    log10(12345) = 4.091\n",
        "    Integral part of 4.091 is 4 and 4 + 1 =  5 which is also the number of digits in 12345 "
      ]
    },
    {
      "cell_type": "code",
      "execution_count": null,
      "metadata": {},
      "outputs": [],
      "source": [
        "import java.util.*;\n",
        "public class countNumberDigits { \n",
        "    static int count_digits(int n)\n",
        "    {\n",
        "       int digits = (int) Math.floor(Math.log10(n) + 1);\n",
        "        return digits;\n",
        "    } \n",
        "\n",
        "    public static void main(String args[]) \n",
        "    { \n",
        "         int n = 12345;\n",
        "        System.out.println(\"Number of digits in \"+n+\" is \"+count_digits(n));\n",
        "    } \n",
        "}"
      ]
    },
    {
      "cell_type": "markdown",
      "metadata": {},
      "source": [
        "### **Reverse a number**\n",
        "\n",
        "**Problem Statement:** Given a number N reverse the number and print it.\n",
        "\n",
        "Example 1:\n",
        "\n",
        "    Input: N = 123\n",
        "    Output: 321\n",
        "    Explanation: The reverse of 123 is 321\n",
        "\n",
        "Example 2:\n",
        "\n",
        "    Input: N = 234\n",
        "    Output: 432\n",
        "    Explanation: The reverse of 234 is 432"
      ]
    },
    {
      "cell_type": "code",
      "execution_count": null,
      "metadata": {},
      "outputs": [],
      "source": [
        "public class Solution {\n",
        "    public static int reverse(int number) {\n",
        "        int reversedNumber = 0;\n",
        "        \n",
        "        while (number != 0) {\n",
        "            int digit = number % 10;\n",
        "            reversedNumber = reversedNumber * 10 + digit;\n",
        "            number /= 10;\n",
        "        }\n",
        "        \n",
        "        return reversedNumber;\n",
        "    }\n",
        "\n",
        "    public static void main(String[] args) {\n",
        "        int number = 123;\n",
        "        int reversedNumber = reverse(number);\n",
        "        System.out.println(\"Output: The reverse of \" + number + \" is \" + reversedNumber);\n",
        "    }\n",
        "}\n"
      ]
    },
    {
      "cell_type": "markdown",
      "metadata": {},
      "source": [
        "### **Check if a number is Palindrome or Not**\n",
        "\n",
        "**Problem Statement:**  Given a number check if it is a palindrome.\n",
        "\n",
        "* An integer is considered a palindrome when it reads the same backward as forward."
      ]
    },
    {
      "cell_type": "code",
      "execution_count": null,
      "metadata": {},
      "outputs": [],
      "source": [
        "import java.util.Scanner;\n",
        "class palindrome{\n",
        "    static int printPalindrome(int n){\n",
        "        int pali = 0;\n",
        "        while(n>0){\n",
        "            int remainder = n%10;\n",
        "            pali = pali*10+remainder;\n",
        "            n/=10;\n",
        "        }\n",
        "        return pali;\n",
        "    }\n",
        "    public static void main(String[] args){\n",
        "        Scanner sc = new Scanner(System.in);\n",
        "        System.out.println(\"Enter a number\");\n",
        "        int num = sc.nextInt();\n",
        "        int copynum = num;\n",
        "        int palindrome = printPalindrome(num);\n",
        "        if(palindrome == copynum){\n",
        "            System.out.println(\"Palindrome\");\n",
        "        }else{\n",
        "            System.out.println(\"Not\");\n",
        "        }\n",
        "    }\n",
        "}"
      ]
    },
    {
      "cell_type": "markdown",
      "metadata": {},
      "source": [
        "**Time Complexity:** O(logN) for reversing N digits of input integer.\n",
        "\n",
        "**Space Complexity:** O(1)"
      ]
    },
    {
      "cell_type": "markdown",
      "metadata": {},
      "source": [
        "### **Find GCD of two numbers**\n",
        "\n",
        "**Problem Statement:** Find the gcd of two numbers."
      ]
    },
    {
      "cell_type": "markdown",
      "metadata": {},
      "source": [
        "#### **Brute Force Approach**"
      ]
    },
    {
      "cell_type": "code",
      "execution_count": null,
      "metadata": {},
      "outputs": [],
      "source": []
    }
  ],
  "metadata": {
    "colab": {
      "cell_execution_strategy": "setup",
      "provenance": []
    },
    "kernelspec": {
      "display_name": "java",
      "name": "java"
    },
    "language_info": {
      "name": "java"
    }
  },
  "nbformat": 4,
  "nbformat_minor": 0
}
